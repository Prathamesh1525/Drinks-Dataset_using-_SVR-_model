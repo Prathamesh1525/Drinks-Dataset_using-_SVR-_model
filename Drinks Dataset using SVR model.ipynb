{
 "cells": [
  {
   "cell_type": "code",
   "execution_count": 1,
   "id": "4e2d6fad",
   "metadata": {},
   "outputs": [],
   "source": [
    "import numpy as np\n",
    "import pandas as pd\n",
    "import seaborn as sb\n",
    "import matplotlib.pyplot as plt"
   ]
  },
  {
   "cell_type": "code",
   "execution_count": 5,
   "id": "784abdf1",
   "metadata": {},
   "outputs": [
    {
     "data": {
      "text/html": [
       "<div>\n",
       "<style scoped>\n",
       "    .dataframe tbody tr th:only-of-type {\n",
       "        vertical-align: middle;\n",
       "    }\n",
       "\n",
       "    .dataframe tbody tr th {\n",
       "        vertical-align: top;\n",
       "    }\n",
       "\n",
       "    .dataframe thead th {\n",
       "        text-align: right;\n",
       "    }\n",
       "</style>\n",
       "<table border=\"1\" class=\"dataframe\">\n",
       "  <thead>\n",
       "    <tr style=\"text-align: right;\">\n",
       "      <th></th>\n",
       "      <th>country</th>\n",
       "      <th>beer_servings</th>\n",
       "      <th>spirit_servings</th>\n",
       "      <th>wine_servings</th>\n",
       "      <th>total_litres_of_pure_alcohol</th>\n",
       "      <th>continent</th>\n",
       "    </tr>\n",
       "  </thead>\n",
       "  <tbody>\n",
       "    <tr>\n",
       "      <th>0</th>\n",
       "      <td>Afghanistan</td>\n",
       "      <td>0</td>\n",
       "      <td>0</td>\n",
       "      <td>0</td>\n",
       "      <td>0.0</td>\n",
       "      <td>Asia</td>\n",
       "    </tr>\n",
       "    <tr>\n",
       "      <th>1</th>\n",
       "      <td>Albania</td>\n",
       "      <td>89</td>\n",
       "      <td>132</td>\n",
       "      <td>54</td>\n",
       "      <td>4.9</td>\n",
       "      <td>Europe</td>\n",
       "    </tr>\n",
       "    <tr>\n",
       "      <th>2</th>\n",
       "      <td>Algeria</td>\n",
       "      <td>25</td>\n",
       "      <td>0</td>\n",
       "      <td>14</td>\n",
       "      <td>0.7</td>\n",
       "      <td>Africa</td>\n",
       "    </tr>\n",
       "    <tr>\n",
       "      <th>3</th>\n",
       "      <td>Andorra</td>\n",
       "      <td>245</td>\n",
       "      <td>138</td>\n",
       "      <td>312</td>\n",
       "      <td>12.4</td>\n",
       "      <td>Europe</td>\n",
       "    </tr>\n",
       "    <tr>\n",
       "      <th>4</th>\n",
       "      <td>Angola</td>\n",
       "      <td>217</td>\n",
       "      <td>57</td>\n",
       "      <td>45</td>\n",
       "      <td>5.9</td>\n",
       "      <td>Africa</td>\n",
       "    </tr>\n",
       "    <tr>\n",
       "      <th>...</th>\n",
       "      <td>...</td>\n",
       "      <td>...</td>\n",
       "      <td>...</td>\n",
       "      <td>...</td>\n",
       "      <td>...</td>\n",
       "      <td>...</td>\n",
       "    </tr>\n",
       "    <tr>\n",
       "      <th>188</th>\n",
       "      <td>Venezuela</td>\n",
       "      <td>333</td>\n",
       "      <td>100</td>\n",
       "      <td>3</td>\n",
       "      <td>7.7</td>\n",
       "      <td>South America</td>\n",
       "    </tr>\n",
       "    <tr>\n",
       "      <th>189</th>\n",
       "      <td>Vietnam</td>\n",
       "      <td>111</td>\n",
       "      <td>2</td>\n",
       "      <td>1</td>\n",
       "      <td>2.0</td>\n",
       "      <td>Asia</td>\n",
       "    </tr>\n",
       "    <tr>\n",
       "      <th>190</th>\n",
       "      <td>Yemen</td>\n",
       "      <td>6</td>\n",
       "      <td>0</td>\n",
       "      <td>0</td>\n",
       "      <td>0.1</td>\n",
       "      <td>Asia</td>\n",
       "    </tr>\n",
       "    <tr>\n",
       "      <th>191</th>\n",
       "      <td>Zambia</td>\n",
       "      <td>32</td>\n",
       "      <td>19</td>\n",
       "      <td>4</td>\n",
       "      <td>2.5</td>\n",
       "      <td>Africa</td>\n",
       "    </tr>\n",
       "    <tr>\n",
       "      <th>192</th>\n",
       "      <td>Zimbabwe</td>\n",
       "      <td>64</td>\n",
       "      <td>18</td>\n",
       "      <td>4</td>\n",
       "      <td>4.7</td>\n",
       "      <td>Africa</td>\n",
       "    </tr>\n",
       "  </tbody>\n",
       "</table>\n",
       "<p>193 rows × 6 columns</p>\n",
       "</div>"
      ],
      "text/plain": [
       "         country  beer_servings  spirit_servings  wine_servings  \\\n",
       "0    Afghanistan              0                0              0   \n",
       "1        Albania             89              132             54   \n",
       "2        Algeria             25                0             14   \n",
       "3        Andorra            245              138            312   \n",
       "4         Angola            217               57             45   \n",
       "..           ...            ...              ...            ...   \n",
       "188    Venezuela            333              100              3   \n",
       "189      Vietnam            111                2              1   \n",
       "190        Yemen              6                0              0   \n",
       "191       Zambia             32               19              4   \n",
       "192     Zimbabwe             64               18              4   \n",
       "\n",
       "     total_litres_of_pure_alcohol      continent  \n",
       "0                             0.0           Asia  \n",
       "1                             4.9         Europe  \n",
       "2                             0.7         Africa  \n",
       "3                            12.4         Europe  \n",
       "4                             5.9         Africa  \n",
       "..                            ...            ...  \n",
       "188                           7.7  South America  \n",
       "189                           2.0           Asia  \n",
       "190                           0.1           Asia  \n",
       "191                           2.5         Africa  \n",
       "192                           4.7         Africa  \n",
       "\n",
       "[193 rows x 6 columns]"
      ]
     },
     "execution_count": 5,
     "metadata": {},
     "output_type": "execute_result"
    }
   ],
   "source": [
    "df=pd.read_csv('../DataSets/Drinks.csv')\n",
    "df"
   ]
  },
  {
   "cell_type": "code",
   "execution_count": 6,
   "id": "9769d79d",
   "metadata": {},
   "outputs": [
    {
     "data": {
      "text/plain": [
       "Index(['country', 'beer_servings', 'spirit_servings', 'wine_servings',\n",
       "       'total_litres_of_pure_alcohol', 'continent'],\n",
       "      dtype='object')"
      ]
     },
     "execution_count": 6,
     "metadata": {},
     "output_type": "execute_result"
    }
   ],
   "source": [
    "df.columns"
   ]
  },
  {
   "cell_type": "code",
   "execution_count": 7,
   "id": "86d71289",
   "metadata": {},
   "outputs": [
    {
     "data": {
      "text/plain": [
       "country                         0\n",
       "beer_servings                   0\n",
       "spirit_servings                 0\n",
       "wine_servings                   0\n",
       "total_litres_of_pure_alcohol    0\n",
       "continent                       0\n",
       "dtype: int64"
      ]
     },
     "execution_count": 7,
     "metadata": {},
     "output_type": "execute_result"
    }
   ],
   "source": [
    "df.isnull().sum()"
   ]
  },
  {
   "cell_type": "code",
   "execution_count": 8,
   "id": "ff9efa2e",
   "metadata": {},
   "outputs": [],
   "source": [
    "from sklearn.preprocessing import LabelEncoder\n",
    "label=LabelEncoder()"
   ]
  },
  {
   "cell_type": "code",
   "execution_count": 11,
   "id": "138f0d64",
   "metadata": {},
   "outputs": [],
   "source": [
    "df.country=label.fit_transform(df.country)\n",
    "df.continent=label.fit_transform(df.continent)"
   ]
  },
  {
   "cell_type": "code",
   "execution_count": 12,
   "id": "57588e95",
   "metadata": {
    "scrolled": false
   },
   "outputs": [
    {
     "data": {
      "text/html": [
       "<div>\n",
       "<style scoped>\n",
       "    .dataframe tbody tr th:only-of-type {\n",
       "        vertical-align: middle;\n",
       "    }\n",
       "\n",
       "    .dataframe tbody tr th {\n",
       "        vertical-align: top;\n",
       "    }\n",
       "\n",
       "    .dataframe thead th {\n",
       "        text-align: right;\n",
       "    }\n",
       "</style>\n",
       "<table border=\"1\" class=\"dataframe\">\n",
       "  <thead>\n",
       "    <tr style=\"text-align: right;\">\n",
       "      <th></th>\n",
       "      <th>country</th>\n",
       "      <th>beer_servings</th>\n",
       "      <th>spirit_servings</th>\n",
       "      <th>wine_servings</th>\n",
       "      <th>total_litres_of_pure_alcohol</th>\n",
       "      <th>continent</th>\n",
       "    </tr>\n",
       "  </thead>\n",
       "  <tbody>\n",
       "    <tr>\n",
       "      <th>0</th>\n",
       "      <td>0</td>\n",
       "      <td>0</td>\n",
       "      <td>0</td>\n",
       "      <td>0</td>\n",
       "      <td>0.0</td>\n",
       "      <td>1</td>\n",
       "    </tr>\n",
       "    <tr>\n",
       "      <th>1</th>\n",
       "      <td>1</td>\n",
       "      <td>89</td>\n",
       "      <td>132</td>\n",
       "      <td>54</td>\n",
       "      <td>4.9</td>\n",
       "      <td>2</td>\n",
       "    </tr>\n",
       "    <tr>\n",
       "      <th>2</th>\n",
       "      <td>2</td>\n",
       "      <td>25</td>\n",
       "      <td>0</td>\n",
       "      <td>14</td>\n",
       "      <td>0.7</td>\n",
       "      <td>0</td>\n",
       "    </tr>\n",
       "    <tr>\n",
       "      <th>3</th>\n",
       "      <td>3</td>\n",
       "      <td>245</td>\n",
       "      <td>138</td>\n",
       "      <td>312</td>\n",
       "      <td>12.4</td>\n",
       "      <td>2</td>\n",
       "    </tr>\n",
       "    <tr>\n",
       "      <th>4</th>\n",
       "      <td>4</td>\n",
       "      <td>217</td>\n",
       "      <td>57</td>\n",
       "      <td>45</td>\n",
       "      <td>5.9</td>\n",
       "      <td>0</td>\n",
       "    </tr>\n",
       "    <tr>\n",
       "      <th>...</th>\n",
       "      <td>...</td>\n",
       "      <td>...</td>\n",
       "      <td>...</td>\n",
       "      <td>...</td>\n",
       "      <td>...</td>\n",
       "      <td>...</td>\n",
       "    </tr>\n",
       "    <tr>\n",
       "      <th>188</th>\n",
       "      <td>188</td>\n",
       "      <td>333</td>\n",
       "      <td>100</td>\n",
       "      <td>3</td>\n",
       "      <td>7.7</td>\n",
       "      <td>5</td>\n",
       "    </tr>\n",
       "    <tr>\n",
       "      <th>189</th>\n",
       "      <td>189</td>\n",
       "      <td>111</td>\n",
       "      <td>2</td>\n",
       "      <td>1</td>\n",
       "      <td>2.0</td>\n",
       "      <td>1</td>\n",
       "    </tr>\n",
       "    <tr>\n",
       "      <th>190</th>\n",
       "      <td>190</td>\n",
       "      <td>6</td>\n",
       "      <td>0</td>\n",
       "      <td>0</td>\n",
       "      <td>0.1</td>\n",
       "      <td>1</td>\n",
       "    </tr>\n",
       "    <tr>\n",
       "      <th>191</th>\n",
       "      <td>191</td>\n",
       "      <td>32</td>\n",
       "      <td>19</td>\n",
       "      <td>4</td>\n",
       "      <td>2.5</td>\n",
       "      <td>0</td>\n",
       "    </tr>\n",
       "    <tr>\n",
       "      <th>192</th>\n",
       "      <td>192</td>\n",
       "      <td>64</td>\n",
       "      <td>18</td>\n",
       "      <td>4</td>\n",
       "      <td>4.7</td>\n",
       "      <td>0</td>\n",
       "    </tr>\n",
       "  </tbody>\n",
       "</table>\n",
       "<p>193 rows × 6 columns</p>\n",
       "</div>"
      ],
      "text/plain": [
       "     country  beer_servings  spirit_servings  wine_servings  \\\n",
       "0          0              0                0              0   \n",
       "1          1             89              132             54   \n",
       "2          2             25                0             14   \n",
       "3          3            245              138            312   \n",
       "4          4            217               57             45   \n",
       "..       ...            ...              ...            ...   \n",
       "188      188            333              100              3   \n",
       "189      189            111                2              1   \n",
       "190      190              6                0              0   \n",
       "191      191             32               19              4   \n",
       "192      192             64               18              4   \n",
       "\n",
       "     total_litres_of_pure_alcohol  continent  \n",
       "0                             0.0          1  \n",
       "1                             4.9          2  \n",
       "2                             0.7          0  \n",
       "3                            12.4          2  \n",
       "4                             5.9          0  \n",
       "..                            ...        ...  \n",
       "188                           7.7          5  \n",
       "189                           2.0          1  \n",
       "190                           0.1          1  \n",
       "191                           2.5          0  \n",
       "192                           4.7          0  \n",
       "\n",
       "[193 rows x 6 columns]"
      ]
     },
     "execution_count": 12,
     "metadata": {},
     "output_type": "execute_result"
    }
   ],
   "source": [
    "df"
   ]
  },
  {
   "cell_type": "code",
   "execution_count": 15,
   "id": "c6fedb07",
   "metadata": {
    "scrolled": false
   },
   "outputs": [
    {
     "data": {
      "text/plain": [
       "array([[  0,   0,   0,   0,   1],\n",
       "       [  1,  89, 132,  54,   2],\n",
       "       [  2,  25,   0,  14,   0],\n",
       "       [  3, 245, 138, 312,   2],\n",
       "       [  4, 217,  57,  45,   0],\n",
       "       [  5, 102, 128,  45,   3],\n",
       "       [  6, 193,  25, 221,   5],\n",
       "       [  7,  21, 179,  11,   2],\n",
       "       [  8, 261,  72, 212,   4],\n",
       "       [  9, 279,  75, 191,   2],\n",
       "       [ 10,  21,  46,   5,   2],\n",
       "       [ 11, 122, 176,  51,   3],\n",
       "       [ 12,  42,  63,   7,   1],\n",
       "       [ 13,   0,   0,   0,   1],\n",
       "       [ 14, 143, 173,  36,   3],\n",
       "       [ 15, 142, 373,  42,   2],\n",
       "       [ 16, 295,  84, 212,   2],\n",
       "       [ 17, 263, 114,   8,   3],\n",
       "       [ 18,  34,   4,  13,   0],\n",
       "       [ 19,  23,   0,   0,   1],\n",
       "       [ 20, 167,  41,   8,   5],\n",
       "       [ 21,  76, 173,   8,   2],\n",
       "       [ 22, 173,  35,  35,   0],\n",
       "       [ 23, 245, 145,  16,   5],\n",
       "       [ 24,  31,   2,   1,   1],\n",
       "       [ 25, 231, 252,  94,   2],\n",
       "       [ 26,  25,   7,   7,   0],\n",
       "       [ 27,  88,   0,   0,   0],\n",
       "       [ 41,  37,   1,   7,   0],\n",
       "       [ 28, 144,  56,  16,   0],\n",
       "       [ 29,  57,  65,   1,   1],\n",
       "       [ 30, 147,   1,   4,   0],\n",
       "       [ 31, 240, 122, 100,   3],\n",
       "       [ 32,  17,   2,   1,   0],\n",
       "       [ 33,  15,   1,   1,   0],\n",
       "       [ 34, 130, 124, 172,   5],\n",
       "       [ 35,  79, 192,   8,   1],\n",
       "       [ 36, 159,  76,   3,   5],\n",
       "       [ 37,   1,   3,   1,   0],\n",
       "       [ 38,  76,   1,   9,   0],\n",
       "       [ 39,   0, 254,  74,   4],\n",
       "       [ 40, 149,  87,  11,   3],\n",
       "       [ 42, 230,  87, 254,   2],\n",
       "       [ 43,  93, 137,   5,   3],\n",
       "       [ 44, 192, 154, 113,   2],\n",
       "       [ 45, 361, 170, 134,   2],\n",
       "       [127,   0,   0,   0,   1],\n",
       "       [ 46,  32,   3,   1,   0],\n",
       "       [ 47, 224,  81, 278,   2],\n",
       "       [ 48,  15,  44,   3,   0],\n",
       "       [ 49,  52, 286,  26,   3],\n",
       "       [ 50, 193, 147,   9,   3],\n",
       "       [ 51, 162,  74,   3,   5],\n",
       "       [ 52,   6,   4,   1,   0],\n",
       "       [ 53,  52,  69,   2,   3],\n",
       "       [ 54,  92,   0, 233,   0],\n",
       "       [ 55,  18,   0,   0,   0],\n",
       "       [ 56, 224, 194,  59,   2],\n",
       "       [ 57,  20,   3,   0,   0],\n",
       "       [ 58,  77,  35,   1,   4],\n",
       "       [ 59, 263, 133,  97,   2],\n",
       "       [ 60, 127, 151, 370,   2],\n",
       "       [ 61, 347,  98,  59,   0],\n",
       "       [ 62,   8,   0,   1,   0],\n",
       "       [ 63,  52, 100, 149,   2],\n",
       "       [ 64, 346, 117, 175,   2],\n",
       "       [ 65,  31,   3,  10,   0],\n",
       "       [ 66, 133, 112, 218,   2],\n",
       "       [ 67, 199, 438,  28,   3],\n",
       "       [ 68,  53,  69,   2,   3],\n",
       "       [ 69,   9,   0,   2,   0],\n",
       "       [ 70,  28,  31,  21,   0],\n",
       "       [ 71,  93, 302,   1,   5],\n",
       "       [ 72,   1, 326,   1,   3],\n",
       "       [ 73,  69,  98,   2,   3],\n",
       "       [ 74, 234, 215, 185,   2],\n",
       "       [ 75, 233,  61,  78,   2],\n",
       "       [ 76,   9, 114,   0,   1],\n",
       "       [ 77,   5,   1,   0,   1],\n",
       "       [ 78,   0,   0,   0,   1],\n",
       "       [ 79,   9,   3,   0,   1],\n",
       "       [ 80, 313, 118, 165,   2],\n",
       "       [ 81,  63,  69,   9,   1],\n",
       "       [ 82,  85,  42, 237,   2],\n",
       "       [ 83,  82,  97,   9,   3],\n",
       "       [ 84,  77, 202,  16,   1],\n",
       "       [ 85,   6,  21,   1,   1],\n",
       "       [ 86, 124, 246,  12,   1],\n",
       "       [ 87,  58,  22,   2,   0],\n",
       "       [ 88,  21,  34,   1,   4],\n",
       "       [ 89,   0,   0,   0,   1],\n",
       "       [ 90,  31,  97,   6,   1],\n",
       "       [ 91,  62,   0, 123,   1],\n",
       "       [ 92, 281, 216,  62,   2],\n",
       "       [ 93,  20,  55,  31,   1],\n",
       "       [ 94,  82,  29,   0,   0],\n",
       "       [ 95,  19, 152,   2,   0],\n",
       "       [ 96,   0,   0,   0,   0],\n",
       "       [ 97, 343, 244,  56,   2],\n",
       "       [ 98, 236, 133, 271,   2],\n",
       "       [100,  26,  15,   4,   0],\n",
       "       [101,   8,  11,   1,   0],\n",
       "       [102,  13,   4,   0,   1],\n",
       "       [103,   0,   0,   0,   1],\n",
       "       [104,   5,   1,   1,   0],\n",
       "       [105, 149, 100, 120,   2],\n",
       "       [106,   0,   0,   0,   4],\n",
       "       [107,   0,   0,   0,   0],\n",
       "       [108,  98,  31,  18,   0],\n",
       "       [109, 238,  68,   5,   3],\n",
       "       [110,  62,  50,  18,   4],\n",
       "       [112,   0,   0,   0,   2],\n",
       "       [113,  77, 189,   8,   1],\n",
       "       [114,  31, 114, 128,   2],\n",
       "       [115,  12,   6,  10,   0],\n",
       "       [116,  47,  18,   5,   0],\n",
       "       [117,   5,   1,   0,   1],\n",
       "       [118, 376,   3,   1,   0],\n",
       "       [119,  49,   0,   8,   4],\n",
       "       [120,   5,   6,   0,   1],\n",
       "       [121, 251,  88, 190,   2],\n",
       "       [122, 203,  79, 175,   4],\n",
       "       [123,  78, 118,   1,   3],\n",
       "       [124,   3,   2,   1,   0],\n",
       "       [125,  42,   5,   2,   0],\n",
       "       [126, 188, 200,   7,   4],\n",
       "       [128, 169,  71, 129,   2],\n",
       "       [129,  22,  16,   1,   1],\n",
       "       [130,   0,   0,   0,   1],\n",
       "       [131, 306,  63,  23,   4],\n",
       "       [132, 285, 104,  18,   3],\n",
       "       [133,  44,  39,   1,   4],\n",
       "       [134, 213, 117,  74,   5],\n",
       "       [135, 163, 160,  21,   5],\n",
       "       [136,  71, 186,   1,   1],\n",
       "       [137, 343, 215,  56,   2],\n",
       "       [138, 194,  67, 339,   2],\n",
       "       [139,   1,  42,   7,   1],\n",
       "       [157, 140,  16,   9,   1],\n",
       "       [111, 109, 226,  18,   2],\n",
       "       [140, 297, 122, 167,   2],\n",
       "       [141, 247, 326,  73,   1],\n",
       "       [142,  43,   2,   0,   0],\n",
       "       [160, 194, 205,  32,   3],\n",
       "       [161, 171, 315,  71,   3],\n",
       "       [162, 120, 221,  11,   3],\n",
       "       [143, 105,  18,  24,   4],\n",
       "       [144,   0,   0,   0,   2],\n",
       "       [145,  56,  38, 140,   0],\n",
       "       [146,   0,   5,   0,   1],\n",
       "       [147,   9,   1,   7,   0],\n",
       "       [148, 283, 131, 127,   2],\n",
       "       [149, 157,  25,  51,   0],\n",
       "       [150,  25,   3,   2,   0],\n",
       "       [151,  60,  12,  11,   1],\n",
       "       [152, 196, 293, 116,   2],\n",
       "       [153, 270,  51, 276,   2],\n",
       "       [154,  56,  11,   1,   4],\n",
       "       [155,   0,   0,   0,   0],\n",
       "       [156, 225,  76,  81,   0],\n",
       "       [158, 284, 157, 112,   2],\n",
       "       [159,  16, 104,   0,   1],\n",
       "       [163,   8,  13,   0,   0],\n",
       "       [164, 128, 178,   7,   5],\n",
       "       [165,  90,   2,   2,   0],\n",
       "       [166, 152,  60, 186,   2],\n",
       "       [167, 185, 100, 280,   2],\n",
       "       [168,   5,  35,  16,   1],\n",
       "       [169,   2,  15,   0,   1],\n",
       "       [171,  99, 258,   1,   1],\n",
       "       [ 99, 106,  27,  86,   2],\n",
       "       [172,   1,   1,   4,   1],\n",
       "       [173,  36,   2,  19,   0],\n",
       "       [174,  36,  21,   5,   4],\n",
       "       [175, 197, 156,   7,   3],\n",
       "       [176,  51,   3,  20,   0],\n",
       "       [177,  51,  22,   7,   1],\n",
       "       [178,  19,  71,  32,   1],\n",
       "       [179,   6,  41,   9,   4],\n",
       "       [181,  45,   9,   0,   0],\n",
       "       [182, 206, 237,  45,   2],\n",
       "       [183,  16, 135,   5,   1],\n",
       "       [184, 219, 126, 195,   2],\n",
       "       [170,  36,   6,   1,   0],\n",
       "       [180, 249, 158,  84,   3],\n",
       "       [185, 115,  35, 220,   5],\n",
       "       [186,  25, 101,   8,   1],\n",
       "       [187,  21,  18,  11,   4],\n",
       "       [188, 333, 100,   3,   5],\n",
       "       [189, 111,   2,   1,   1],\n",
       "       [190,   6,   0,   0,   1],\n",
       "       [191,  32,  19,   4,   0],\n",
       "       [192,  64,  18,   4,   0]], dtype=int64)"
      ]
     },
     "execution_count": 15,
     "metadata": {},
     "output_type": "execute_result"
    }
   ],
   "source": [
    "x=df.drop('total_litres_of_pure_alcohol',axis=1).values\n",
    "x"
   ]
  },
  {
   "cell_type": "code",
   "execution_count": 16,
   "id": "4a48ebab",
   "metadata": {
    "scrolled": true
   },
   "outputs": [
    {
     "data": {
      "text/plain": [
       "array([ 0. ,  4.9,  0.7, 12.4,  5.9,  4.9,  8.3,  3.8, 10.4,  9.7,  1.3,\n",
       "        6.3,  2. ,  0. ,  6.3, 14.4, 10.5,  6.8,  1.1,  0.4,  3.8,  4.6,\n",
       "        5.4,  7.2,  0.6, 10.3,  4.3,  6.3,  4. ,  4. ,  2.2,  5.8,  8.2,\n",
       "        1.8,  0.4,  7.6,  5. ,  4.2,  0.1,  1.7,  5.9,  4.4, 10.2,  4.2,\n",
       "        8.2, 11.8,  0. ,  2.3, 10.4,  1.1,  6.6,  6.2,  4.2,  0.2,  2.2,\n",
       "        5.8,  0.5,  9.5,  0.7,  2. , 10. , 11.8,  8.9,  2.4,  5.4, 11.3,\n",
       "        1.8,  8.3, 11.9,  2.2,  0.2,  2.5,  7.1,  5.9,  3. , 11.3,  6.6,\n",
       "        2.2,  0.1,  0. ,  0.2, 11.4,  2.5,  6.5,  3.4,  7. ,  0.5,  6.8,\n",
       "        1.8,  1. ,  0. ,  2.4,  6.2, 10.5,  1.9,  2.8,  3.1,  0. , 12.9,\n",
       "       11.4,  0.8,  1.5,  0.3,  0. ,  0.6,  6.6,  0. ,  0. ,  2.6,  5.5,\n",
       "        2.3,  0. ,  4.9,  4.9,  0.5,  1.3,  0.1,  6.8,  1. ,  0.2,  9.4,\n",
       "        9.3,  3.5,  0.1,  9.1,  7. ,  6.7,  0.7,  0. ,  6.9,  7.2,  1.5,\n",
       "        7.3,  6.1,  4.6, 10.9, 11. ,  0.9,  9.8,  6.3, 10.4, 11.5,  6.8,\n",
       "        7.7, 10.1,  6.3,  2.6,  0. ,  4.2,  0.1,  0.3,  9.6,  4.1,  6.7,\n",
       "        1.5, 11.4, 10.6,  1.2,  0. ,  8.2, 10. ,  2.2,  1.7,  5.6,  4.7,\n",
       "        7.2, 10.2,  1. ,  0.3,  6.4,  3.9,  0.1,  1.3,  1.1,  6.4,  1.3,\n",
       "        1.4,  2.2,  1. ,  8.3,  8.9,  2.8, 10.4,  5.7,  8.7,  6.6,  2.4,\n",
       "        0.9,  7.7,  2. ,  0.1,  2.5,  4.7])"
      ]
     },
     "execution_count": 16,
     "metadata": {},
     "output_type": "execute_result"
    }
   ],
   "source": [
    "y=df['total_litres_of_pure_alcohol'].values\n",
    "y"
   ]
  },
  {
   "cell_type": "code",
   "execution_count": 17,
   "id": "e6905dda",
   "metadata": {},
   "outputs": [],
   "source": [
    "from sklearn.model_selection import train_test_split\n",
    "xtrain,xtest,ytrain,ytest=train_test_split(x,y,test_size=0.1)"
   ]
  },
  {
   "cell_type": "code",
   "execution_count": 18,
   "id": "25c8ac40",
   "metadata": {},
   "outputs": [],
   "source": [
    "from sklearn.svm import SVR"
   ]
  },
  {
   "cell_type": "code",
   "execution_count": 26,
   "id": "15dfbe30",
   "metadata": {},
   "outputs": [],
   "source": [
    "model=SVR(kernel='linear')"
   ]
  },
  {
   "cell_type": "code",
   "execution_count": 27,
   "id": "5e1b60fe",
   "metadata": {},
   "outputs": [
    {
     "data": {
      "text/html": [
       "<style>#sk-container-id-3 {color: black;background-color: white;}#sk-container-id-3 pre{padding: 0;}#sk-container-id-3 div.sk-toggleable {background-color: white;}#sk-container-id-3 label.sk-toggleable__label {cursor: pointer;display: block;width: 100%;margin-bottom: 0;padding: 0.3em;box-sizing: border-box;text-align: center;}#sk-container-id-3 label.sk-toggleable__label-arrow:before {content: \"▸\";float: left;margin-right: 0.25em;color: #696969;}#sk-container-id-3 label.sk-toggleable__label-arrow:hover:before {color: black;}#sk-container-id-3 div.sk-estimator:hover label.sk-toggleable__label-arrow:before {color: black;}#sk-container-id-3 div.sk-toggleable__content {max-height: 0;max-width: 0;overflow: hidden;text-align: left;background-color: #f0f8ff;}#sk-container-id-3 div.sk-toggleable__content pre {margin: 0.2em;color: black;border-radius: 0.25em;background-color: #f0f8ff;}#sk-container-id-3 input.sk-toggleable__control:checked~div.sk-toggleable__content {max-height: 200px;max-width: 100%;overflow: auto;}#sk-container-id-3 input.sk-toggleable__control:checked~label.sk-toggleable__label-arrow:before {content: \"▾\";}#sk-container-id-3 div.sk-estimator input.sk-toggleable__control:checked~label.sk-toggleable__label {background-color: #d4ebff;}#sk-container-id-3 div.sk-label input.sk-toggleable__control:checked~label.sk-toggleable__label {background-color: #d4ebff;}#sk-container-id-3 input.sk-hidden--visually {border: 0;clip: rect(1px 1px 1px 1px);clip: rect(1px, 1px, 1px, 1px);height: 1px;margin: -1px;overflow: hidden;padding: 0;position: absolute;width: 1px;}#sk-container-id-3 div.sk-estimator {font-family: monospace;background-color: #f0f8ff;border: 1px dotted black;border-radius: 0.25em;box-sizing: border-box;margin-bottom: 0.5em;}#sk-container-id-3 div.sk-estimator:hover {background-color: #d4ebff;}#sk-container-id-3 div.sk-parallel-item::after {content: \"\";width: 100%;border-bottom: 1px solid gray;flex-grow: 1;}#sk-container-id-3 div.sk-label:hover label.sk-toggleable__label {background-color: #d4ebff;}#sk-container-id-3 div.sk-serial::before {content: \"\";position: absolute;border-left: 1px solid gray;box-sizing: border-box;top: 0;bottom: 0;left: 50%;z-index: 0;}#sk-container-id-3 div.sk-serial {display: flex;flex-direction: column;align-items: center;background-color: white;padding-right: 0.2em;padding-left: 0.2em;position: relative;}#sk-container-id-3 div.sk-item {position: relative;z-index: 1;}#sk-container-id-3 div.sk-parallel {display: flex;align-items: stretch;justify-content: center;background-color: white;position: relative;}#sk-container-id-3 div.sk-item::before, #sk-container-id-3 div.sk-parallel-item::before {content: \"\";position: absolute;border-left: 1px solid gray;box-sizing: border-box;top: 0;bottom: 0;left: 50%;z-index: -1;}#sk-container-id-3 div.sk-parallel-item {display: flex;flex-direction: column;z-index: 1;position: relative;background-color: white;}#sk-container-id-3 div.sk-parallel-item:first-child::after {align-self: flex-end;width: 50%;}#sk-container-id-3 div.sk-parallel-item:last-child::after {align-self: flex-start;width: 50%;}#sk-container-id-3 div.sk-parallel-item:only-child::after {width: 0;}#sk-container-id-3 div.sk-dashed-wrapped {border: 1px dashed gray;margin: 0 0.4em 0.5em 0.4em;box-sizing: border-box;padding-bottom: 0.4em;background-color: white;}#sk-container-id-3 div.sk-label label {font-family: monospace;font-weight: bold;display: inline-block;line-height: 1.2em;}#sk-container-id-3 div.sk-label-container {text-align: center;}#sk-container-id-3 div.sk-container {/* jupyter's `normalize.less` sets `[hidden] { display: none; }` but bootstrap.min.css set `[hidden] { display: none !important; }` so we also need the `!important` here to be able to override the default hidden behavior on the sphinx rendered scikit-learn.org. See: https://github.com/scikit-learn/scikit-learn/issues/21755 */display: inline-block !important;position: relative;}#sk-container-id-3 div.sk-text-repr-fallback {display: none;}</style><div id=\"sk-container-id-3\" class=\"sk-top-container\"><div class=\"sk-text-repr-fallback\"><pre>SVR(kernel=&#x27;linear&#x27;)</pre><b>In a Jupyter environment, please rerun this cell to show the HTML representation or trust the notebook. <br />On GitHub, the HTML representation is unable to render, please try loading this page with nbviewer.org.</b></div><div class=\"sk-container\" hidden><div class=\"sk-item\"><div class=\"sk-estimator sk-toggleable\"><input class=\"sk-toggleable__control sk-hidden--visually\" id=\"sk-estimator-id-3\" type=\"checkbox\" checked><label for=\"sk-estimator-id-3\" class=\"sk-toggleable__label sk-toggleable__label-arrow\">SVR</label><div class=\"sk-toggleable__content\"><pre>SVR(kernel=&#x27;linear&#x27;)</pre></div></div></div></div></div>"
      ],
      "text/plain": [
       "SVR(kernel='linear')"
      ]
     },
     "execution_count": 27,
     "metadata": {},
     "output_type": "execute_result"
    }
   ],
   "source": [
    "model"
   ]
  },
  {
   "cell_type": "code",
   "execution_count": 28,
   "id": "fcf3a638",
   "metadata": {},
   "outputs": [
    {
     "data": {
      "text/html": [
       "<style>#sk-container-id-4 {color: black;background-color: white;}#sk-container-id-4 pre{padding: 0;}#sk-container-id-4 div.sk-toggleable {background-color: white;}#sk-container-id-4 label.sk-toggleable__label {cursor: pointer;display: block;width: 100%;margin-bottom: 0;padding: 0.3em;box-sizing: border-box;text-align: center;}#sk-container-id-4 label.sk-toggleable__label-arrow:before {content: \"▸\";float: left;margin-right: 0.25em;color: #696969;}#sk-container-id-4 label.sk-toggleable__label-arrow:hover:before {color: black;}#sk-container-id-4 div.sk-estimator:hover label.sk-toggleable__label-arrow:before {color: black;}#sk-container-id-4 div.sk-toggleable__content {max-height: 0;max-width: 0;overflow: hidden;text-align: left;background-color: #f0f8ff;}#sk-container-id-4 div.sk-toggleable__content pre {margin: 0.2em;color: black;border-radius: 0.25em;background-color: #f0f8ff;}#sk-container-id-4 input.sk-toggleable__control:checked~div.sk-toggleable__content {max-height: 200px;max-width: 100%;overflow: auto;}#sk-container-id-4 input.sk-toggleable__control:checked~label.sk-toggleable__label-arrow:before {content: \"▾\";}#sk-container-id-4 div.sk-estimator input.sk-toggleable__control:checked~label.sk-toggleable__label {background-color: #d4ebff;}#sk-container-id-4 div.sk-label input.sk-toggleable__control:checked~label.sk-toggleable__label {background-color: #d4ebff;}#sk-container-id-4 input.sk-hidden--visually {border: 0;clip: rect(1px 1px 1px 1px);clip: rect(1px, 1px, 1px, 1px);height: 1px;margin: -1px;overflow: hidden;padding: 0;position: absolute;width: 1px;}#sk-container-id-4 div.sk-estimator {font-family: monospace;background-color: #f0f8ff;border: 1px dotted black;border-radius: 0.25em;box-sizing: border-box;margin-bottom: 0.5em;}#sk-container-id-4 div.sk-estimator:hover {background-color: #d4ebff;}#sk-container-id-4 div.sk-parallel-item::after {content: \"\";width: 100%;border-bottom: 1px solid gray;flex-grow: 1;}#sk-container-id-4 div.sk-label:hover label.sk-toggleable__label {background-color: #d4ebff;}#sk-container-id-4 div.sk-serial::before {content: \"\";position: absolute;border-left: 1px solid gray;box-sizing: border-box;top: 0;bottom: 0;left: 50%;z-index: 0;}#sk-container-id-4 div.sk-serial {display: flex;flex-direction: column;align-items: center;background-color: white;padding-right: 0.2em;padding-left: 0.2em;position: relative;}#sk-container-id-4 div.sk-item {position: relative;z-index: 1;}#sk-container-id-4 div.sk-parallel {display: flex;align-items: stretch;justify-content: center;background-color: white;position: relative;}#sk-container-id-4 div.sk-item::before, #sk-container-id-4 div.sk-parallel-item::before {content: \"\";position: absolute;border-left: 1px solid gray;box-sizing: border-box;top: 0;bottom: 0;left: 50%;z-index: -1;}#sk-container-id-4 div.sk-parallel-item {display: flex;flex-direction: column;z-index: 1;position: relative;background-color: white;}#sk-container-id-4 div.sk-parallel-item:first-child::after {align-self: flex-end;width: 50%;}#sk-container-id-4 div.sk-parallel-item:last-child::after {align-self: flex-start;width: 50%;}#sk-container-id-4 div.sk-parallel-item:only-child::after {width: 0;}#sk-container-id-4 div.sk-dashed-wrapped {border: 1px dashed gray;margin: 0 0.4em 0.5em 0.4em;box-sizing: border-box;padding-bottom: 0.4em;background-color: white;}#sk-container-id-4 div.sk-label label {font-family: monospace;font-weight: bold;display: inline-block;line-height: 1.2em;}#sk-container-id-4 div.sk-label-container {text-align: center;}#sk-container-id-4 div.sk-container {/* jupyter's `normalize.less` sets `[hidden] { display: none; }` but bootstrap.min.css set `[hidden] { display: none !important; }` so we also need the `!important` here to be able to override the default hidden behavior on the sphinx rendered scikit-learn.org. See: https://github.com/scikit-learn/scikit-learn/issues/21755 */display: inline-block !important;position: relative;}#sk-container-id-4 div.sk-text-repr-fallback {display: none;}</style><div id=\"sk-container-id-4\" class=\"sk-top-container\"><div class=\"sk-text-repr-fallback\"><pre>SVR(kernel=&#x27;linear&#x27;)</pre><b>In a Jupyter environment, please rerun this cell to show the HTML representation or trust the notebook. <br />On GitHub, the HTML representation is unable to render, please try loading this page with nbviewer.org.</b></div><div class=\"sk-container\" hidden><div class=\"sk-item\"><div class=\"sk-estimator sk-toggleable\"><input class=\"sk-toggleable__control sk-hidden--visually\" id=\"sk-estimator-id-4\" type=\"checkbox\" checked><label for=\"sk-estimator-id-4\" class=\"sk-toggleable__label sk-toggleable__label-arrow\">SVR</label><div class=\"sk-toggleable__content\"><pre>SVR(kernel=&#x27;linear&#x27;)</pre></div></div></div></div></div>"
      ],
      "text/plain": [
       "SVR(kernel='linear')"
      ]
     },
     "execution_count": 28,
     "metadata": {},
     "output_type": "execute_result"
    }
   ],
   "source": [
    "model.fit(xtrain,ytrain)"
   ]
  },
  {
   "cell_type": "code",
   "execution_count": 29,
   "id": "f895ade8",
   "metadata": {},
   "outputs": [
    {
     "data": {
      "text/plain": [
       "array([ 1.03013079,  0.87903573,  4.95837543,  1.43189816,  2.73417998,\n",
       "       10.02403907,  6.91999341,  2.61109572,  9.99244897, 12.4892305 ,\n",
       "       11.66490863,  0.39874907,  6.70036642, 10.3707114 ,  5.07951065,\n",
       "        1.36317193,  1.22778197,  1.78390708,  1.09338294,  6.33499052])"
      ]
     },
     "execution_count": 29,
     "metadata": {},
     "output_type": "execute_result"
    }
   ],
   "source": [
    "ypred=model.predict(xtest)\n",
    "ypred"
   ]
  },
  {
   "cell_type": "code",
   "execution_count": 30,
   "id": "045f26e2",
   "metadata": {},
   "outputs": [
    {
     "data": {
      "text/plain": [
       "82.83321387549347"
      ]
     },
     "execution_count": 30,
     "metadata": {},
     "output_type": "execute_result"
    }
   ],
   "source": [
    "from sklearn.metrics import r2_score,mean_squared_error\n",
    "r2=r2_score(ypred,ytest)\n",
    "r2*100"
   ]
  },
  {
   "cell_type": "code",
   "execution_count": null,
   "id": "42672ac2",
   "metadata": {},
   "outputs": [],
   "source": []
  }
 ],
 "metadata": {
  "kernelspec": {
   "display_name": "Python 3 (ipykernel)",
   "language": "python",
   "name": "python3"
  },
  "language_info": {
   "codemirror_mode": {
    "name": "ipython",
    "version": 3
   },
   "file_extension": ".py",
   "mimetype": "text/x-python",
   "name": "python",
   "nbconvert_exporter": "python",
   "pygments_lexer": "ipython3",
   "version": "3.11.3"
  }
 },
 "nbformat": 4,
 "nbformat_minor": 5
}
